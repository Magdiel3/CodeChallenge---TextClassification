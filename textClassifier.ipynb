{
 "cells": [
  {
   "cell_type": "code",
   "execution_count": 2,
   "metadata": {},
   "outputs": [],
   "source": [
    "import pandas as pd\n",
    "import matplotlib.pyplot as plt\n",
    "import json\n",
    "import spacy"
   ]
  },
  {
   "cell_type": "code",
   "execution_count": 3,
   "metadata": {},
   "outputs": [
    {
     "data": {
      "text/html": [
       "<div>\n",
       "<style scoped>\n",
       "    .dataframe tbody tr th:only-of-type {\n",
       "        vertical-align: middle;\n",
       "    }\n",
       "\n",
       "    .dataframe tbody tr th {\n",
       "        vertical-align: top;\n",
       "    }\n",
       "\n",
       "    .dataframe thead th {\n",
       "        text-align: right;\n",
       "    }\n",
       "</style>\n",
       "<table border=\"1\" class=\"dataframe\">\n",
       "  <thead>\n",
       "    <tr style=\"text-align: right;\">\n",
       "      <th></th>\n",
       "      <th>label</th>\n",
       "      <th>text</th>\n",
       "    </tr>\n",
       "  </thead>\n",
       "  <tbody>\n",
       "    <tr>\n",
       "      <th>0</th>\n",
       "      <td>none</td>\n",
       "      <td>Standort Trovarit AG München, Deutschland</td>\n",
       "    </tr>\n",
       "    <tr>\n",
       "      <th>1</th>\n",
       "      <td>none</td>\n",
       "      <td>Wir freuen uns auf Ihre Bewerbung unter Angabe...</td>\n",
       "    </tr>\n",
       "    <tr>\n",
       "      <th>2</th>\n",
       "      <td>tech</td>\n",
       "      <td>Qualifikation zur Heimleitung gemäß Heimperson...</td>\n",
       "    </tr>\n",
       "    <tr>\n",
       "      <th>3</th>\n",
       "      <td>soft</td>\n",
       "      <td>Gute organisatorische und konzeptionelle Fähig...</td>\n",
       "    </tr>\n",
       "    <tr>\n",
       "      <th>4</th>\n",
       "      <td>soft</td>\n",
       "      <td>Teamfähigkeit, hohe Flexibilität und Einsatzbe...</td>\n",
       "    </tr>\n",
       "    <tr>\n",
       "      <th>5</th>\n",
       "      <td>soft</td>\n",
       "      <td>Überdurchschnittliche Einsatzbereitschaft</td>\n",
       "    </tr>\n",
       "    <tr>\n",
       "      <th>6</th>\n",
       "      <td>none</td>\n",
       "      <td>HomeIhre Karriere bei LeasePlanStellenangebote...</td>\n",
       "    </tr>\n",
       "    <tr>\n",
       "      <th>7</th>\n",
       "      <td>tech</td>\n",
       "      <td>Steuerkenntnisse sind sehr wünschenswert</td>\n",
       "    </tr>\n",
       "    <tr>\n",
       "      <th>8</th>\n",
       "      <td>soft</td>\n",
       "      <td>Kreativität und schnelle Auffassungsgabe</td>\n",
       "    </tr>\n",
       "    <tr>\n",
       "      <th>9</th>\n",
       "      <td>none</td>\n",
       "      <td>budget/forecast/prior year/prior month) and pr...</td>\n",
       "    </tr>\n",
       "  </tbody>\n",
       "</table>\n",
       "</div>"
      ],
      "text/plain": [
       "  label                                               text\n",
       "0  none          Standort Trovarit AG München, Deutschland\n",
       "1  none  Wir freuen uns auf Ihre Bewerbung unter Angabe...\n",
       "2  tech  Qualifikation zur Heimleitung gemäß Heimperson...\n",
       "3  soft  Gute organisatorische und konzeptionelle Fähig...\n",
       "4  soft  Teamfähigkeit, hohe Flexibilität und Einsatzbe...\n",
       "5  soft          Überdurchschnittliche Einsatzbereitschaft\n",
       "6  none  HomeIhre Karriere bei LeasePlanStellenangebote...\n",
       "7  tech           Steuerkenntnisse sind sehr wünschenswert\n",
       "8  soft           Kreativität und schnelle Auffassungsgabe\n",
       "9  none  budget/forecast/prior year/prior month) and pr..."
      ]
     },
     "execution_count": 3,
     "metadata": {},
     "output_type": "execute_result"
    }
   ],
   "source": [
    "#Spacy\n",
    "nlp = spacy.load('de_core_news_sm')\n",
    "\n",
    "#Read and format dataset\n",
    "with open('tech_soft_none.json', 'r',encoding = 'utf8') as f:\n",
    "    data = json.load(f)       \n",
    "        \n",
    "df = pd.DataFrame.from_dict(data[\"data\"])\n",
    "\n",
    "df.head(10)"
   ]
  },
  {
   "cell_type": "code",
   "execution_count": 4,
   "metadata": {},
   "outputs": [
    {
     "data": {
      "image/png": "[encoded data removed]",
      "text/plain": [
       "<Figure size 432x216 with 1 Axes>"
      ]
     },
     "metadata": {},
     "output_type": "display_data"
    }
   ],
   "source": [
    "#Plot distribution of data\n",
    "size = df.groupby(\"label\").size().tolist()\n",
    "\n",
    "_, ax = plt.subplots(figsize=(6, 3), subplot_kw=dict(aspect=\"equal\"))\n",
    "\n",
    "plt.pie(size,labels = [\"none\",\"soft\",\"tech\"], \n",
    "        wedgeprops = {'linewidth': 3},\n",
    "        autopct='%1.1f%%',\n",
    "        startangle = 15)\n",
    "\n",
    "ax.set_title(\"Distribution of the data\")\n",
    "\n",
    "plt.show()"
   ]
  },
  {
   "cell_type": "code",
   "execution_count": 5,
   "metadata": {},
   "outputs": [],
   "source": [
    "from collections import Counter\n",
    "\n",
    "#Get most common words for bag of words\n",
    "alltext = \"\"\n",
    "for d in df[\"text\"]:\n",
    "    alltext += d\n",
    "doc = nlp(alltext)\n",
    "words = [token.text for token in doc if token.is_stop != True and token.is_punct != True \n",
    "         and token.like_num != True and token.pos_ != \"SYM\" and token.shape_[0:3].lower() == 'xxx']\n",
    "\n",
    "word_freq = Counter(words)\n",
    "common_words = word_freq.most_common(5000)\n",
    "word_features = [t[0] for t in common_words]"
   ]
  },
  {
   "cell_type": "code",
   "execution_count": 6,
   "metadata": {},
   "outputs": [],
   "source": [
    "#define feature vectors\n",
    "def find_features(doc):\n",
    "    words = doc\n",
    "    features = []\n",
    "    for w in word_features:\n",
    "        features.append(1 if (w in words) else 0)\n",
    "    return features"
   ]
  },
  {
   "cell_type": "code",
   "execution_count": 7,
   "metadata": {},
   "outputs": [],
   "source": [
    "import numpy as np\n",
    "\n",
    "#Extract feature vectors for each text entry with its corresponding label\n",
    "featuresets = np.array([(find_features(df[\"text\"][index]), df[\"label\"][index]) for index,_ in df.iterrows()])"
   ]
  },
  {
   "cell_type": "code",
   "execution_count": 8,
   "metadata": {},
   "outputs": [],
   "source": [
    "from sklearn.preprocessing import LabelEncoder\n",
    "from sklearn.model_selection import train_test_split\n",
    "\n",
    "#Prepare data for training\n",
    "X = np.array([x[0] for x in featuresets[:]])\n",
    "Y = [x[1] for x in featuresets[:]]\n",
    "\n",
    "#Label Encoding\n",
    "le = LabelEncoder().fit(Y)\n",
    "Y = np.array(le.transform(Y))\n",
    "    \n",
    "trainX, testX, trainY, testY = train_test_split(X, Y, test_size=0.25)\n",
    "\n"
   ]
  },
  {
   "cell_type": "code",
   "execution_count": 9,
   "metadata": {},
   "outputs": [
    {
     "name": "stdout",
     "output_type": "stream",
     "text": [
      "Accuarcy: 92.938%\n"
     ]
    }
   ],
   "source": [
    "#Prediction with Multinomial Naive Bayes \n",
    "from sklearn.naive_bayes import MultinomialNB\n",
    "from sklearn.pipeline import Pipeline\n",
    "from sklearn.feature_extraction.text import TfidfTransformer\n",
    "\n",
    "clf = MultinomialNB()\n",
    "clf.fit(trainX, trainY)\n",
    "accuaracy = clf.score(testX,testY)\n",
    "print(\"Accuarcy: {0:.3%}\".format(accuaracy))"
   ]
  },
  {
   "cell_type": "code",
   "execution_count": 10,
   "metadata": {
    "scrolled": true
   },
   "outputs": [],
   "source": [
    "#Generae Confusion matrix to visualize data classification\n",
    "from sklearn.metrics import plot_confusion_matrix\n",
    "\n",
    "def plot_conf_mat(est,X,Y):\n",
    "    disp = 0\n",
    "    disp = plot_confusion_matrix(est, X, Y,\n",
    "                                 display_labels = [\"none\",\"soft\",\"tech\"],\n",
    "                                 cmap = plt.cm.Blues,\n",
    "                                 normalize = \"true\")\n",
    "    disp.ax_.set_title(\"Normalized confusion matrix\")\n",
    "\n",
    "    plt.show()"
   ]
  },
  {
   "cell_type": "code",
   "execution_count": 11,
   "metadata": {},
   "outputs": [
    {
     "data": {
      "image/png": "[encoded data removed]",
      "text/plain": [
       "<Figure size 432x288 with 2 Axes>"
      ]
     },
     "metadata": {
      "needs_background": "light"
     },
     "output_type": "display_data"
    }
   ],
   "source": [
    "#Plot confusion matrix for this model\n",
    "plot_conf_mat(clf,testX,testY)"
   ]
  },
  {
   "cell_type": "markdown",
   "metadata": {},
   "source": [
    "Despite different train/test spliting ratios and word features selected, couldn't improve more than 95%\n"
   ]
  },
  {
   "cell_type": "markdown",
   "metadata": {},
   "source": [
    "New model to train: Logistic Regression"
   ]
  },
  {
   "cell_type": "code",
   "execution_count": 12,
   "metadata": {},
   "outputs": [
    {
     "name": "stdout",
     "output_type": "stream",
     "text": [
      "Accuarcy: 93.874%\n"
     ]
    }
   ],
   "source": [
    "from sklearn.linear_model import LogisticRegression\n",
    "\n",
    "#LogisticRegression model and training\n",
    "clflr = LogisticRegression(solver = 'newton-cg', multi_class = 'multinomial')\n",
    "clflr.fit(trainX, trainY)\n",
    "accuaracy = clflr.score(testX,testY)\n",
    "\n",
    "print(\"Accuarcy: {0:.3%}\".format(accuaracy))"
   ]
  },
  {
   "cell_type": "code",
   "execution_count": 13,
   "metadata": {},
   "outputs": [
    {
     "data": {
      "image/png": "[encoded data removed]",
      "text/plain": [
       "<Figure size 432x288 with 2 Axes>"
      ]
     },
     "metadata": {
      "needs_background": "light"
     },
     "output_type": "display_data"
    }
   ],
   "source": [
    "#Plot confusion matrix for this model\n",
    "plot_conf_mat(clflr,testX,testY)"
   ]
  },
  {
   "cell_type": "markdown",
   "metadata": {},
   "source": [
    "Bow let's try with a Neural Network (1-hidden-layer)"
   ]
  },
  {
   "cell_type": "code",
   "execution_count": 14,
   "metadata": {},
   "outputs": [],
   "source": [
    "from sklearn.preprocessing import OneHotEncoder\n",
    "\n",
    "#Prepare data for training\n",
    "X = np.array([x[0] for x in featuresets[:]])\n",
    "Y = [x[1] for x in featuresets[:]]\n",
    "\n",
    "#One-hot-encoding\n",
    "enc = OneHotEncoder(sparse = False)\n",
    "Y = enc.fit_transform(np.array(Y).reshape(-1,1))\n",
    "    \n",
    "trainX, testX, trainY, testY = train_test_split(X, Y, test_size=0.25)"
   ]
  },
  {
   "cell_type": "code",
   "execution_count": 20,
   "metadata": {},
   "outputs": [
    {
     "name": "stdout",
     "output_type": "stream",
     "text": [
      "Model: \"sequential_2\"\n",
      "_________________________________________________________________\n",
      "Layer (type)                 Output Shape              Param #   \n",
      "=================================================================\n",
      "dense_3 (Dense)              (None, 120)               600120    \n",
      "_________________________________________________________________\n",
      "dense_4 (Dense)              (None, 3)                 363       \n",
      "=================================================================\n",
      "Total params: 600,483\n",
      "Trainable params: 600,483\n",
      "Non-trainable params: 0\n",
      "_________________________________________________________________\n"
     ]
    }
   ],
   "source": [
    "from keras.models import Sequential\n",
    "from keras import layers\n",
    "import tensorflow\n",
    "\n",
    "input_dim = trainX.shape[1]  # Number of features\n",
    "\n",
    "model = Sequential()\n",
    "model.add(layers.Dense(120, input_dim=input_dim, activation='relu'))\n",
    "model.add(layers.Dense(3, activation='softmax'))\n",
    "\n",
    "model.compile(loss='categorical_crossentropy', \n",
    "              optimizer='adam', \n",
    "              metrics=['accuracy'])\n",
    "model.summary()"
   ]
  },
  {
   "cell_type": "code",
   "execution_count": 16,
   "metadata": {},
   "outputs": [
    {
     "name": "stdout",
     "output_type": "stream",
     "text": [
      "Train on 7686 samples, validate on 2563 samples\n",
      "Epoch 1/15\n",
      "7686/7686 [==============================] - 1s 117us/step - loss: 0.9334 - accuracy: 0.7982 - val_loss: 0.7367 - val_accuracy: 0.9071\n",
      "Epoch 2/15\n",
      "7686/7686 [==============================] - 1s 94us/step - loss: 0.6016 - accuracy: 0.9292 - val_loss: 0.4811 - val_accuracy: 0.9259\n",
      "Epoch 3/15\n",
      "7686/7686 [==============================] - 1s 91us/step - loss: 0.3963 - accuracy: 0.9437 - val_loss: 0.3512 - val_accuracy: 0.9325\n",
      "Epoch 4/15\n",
      "7686/7686 [==============================] - 1s 93us/step - loss: 0.2886 - accuracy: 0.9519 - val_loss: 0.2851 - val_accuracy: 0.9384\n",
      "Epoch 5/15\n",
      "7686/7686 [==============================] - 1s 93us/step - loss: 0.2279 - accuracy: 0.9559 - val_loss: 0.2479 - val_accuracy: 0.9423\n",
      "Epoch 6/15\n",
      "7686/7686 [==============================] - 1s 91us/step - loss: 0.1883 - accuracy: 0.9632 - val_loss: 0.2257 - val_accuracy: 0.9434\n",
      "Epoch 7/15\n",
      "7686/7686 [==============================] - 1s 92us/step - loss: 0.1606 - accuracy: 0.9660 - val_loss: 0.2106 - val_accuracy: 0.9450\n",
      "Epoch 8/15\n",
      "7686/7686 [==============================] - 1s 96us/step - loss: 0.1401 - accuracy: 0.9697 - val_loss: 0.2008 - val_accuracy: 0.9434\n",
      "Epoch 9/15\n",
      "7686/7686 [==============================] - 1s 97us/step - loss: 0.1241 - accuracy: 0.9727 - val_loss: 0.1940 - val_accuracy: 0.9430\n",
      "Epoch 10/15\n",
      "7686/7686 [==============================] - 1s 124us/step - loss: 0.1114 - accuracy: 0.9746 - val_loss: 0.1900 - val_accuracy: 0.9434\n",
      "Epoch 11/15\n",
      "7686/7686 [==============================] - 1s 94us/step - loss: 0.1012 - accuracy: 0.9774 - val_loss: 0.1872 - val_accuracy: 0.9434\n",
      "Epoch 12/15\n",
      "7686/7686 [==============================] - 1s 93us/step - loss: 0.0928 - accuracy: 0.9781 - val_loss: 0.1856 - val_accuracy: 0.9438\n",
      "Epoch 13/15\n",
      "7686/7686 [==============================] - 1s 90us/step - loss: 0.0859 - accuracy: 0.9798 - val_loss: 0.1852 - val_accuracy: 0.9446\n",
      "Epoch 14/15\n",
      "7686/7686 [==============================] - 1s 93us/step - loss: 0.0801 - accuracy: 0.9810 - val_loss: 0.1852 - val_accuracy: 0.9446\n",
      "Epoch 15/15\n",
      "7686/7686 [==============================] - 1s 95us/step - loss: 0.0752 - accuracy: 0.9817 - val_loss: 0.1857 - val_accuracy: 0.9430\n"
     ]
    }
   ],
   "source": [
    "hist = model.fit(trainX, trainY,\n",
    "                    verbose = 1,\n",
    "                    epochs=15,\n",
    "                    validation_data = (testX,testY),\n",
    "                    batch_size=500)"
   ]
  },
  {
   "cell_type": "code",
   "execution_count": 17,
   "metadata": {},
   "outputs": [
    {
     "data": {
      "image/png": "[encoded data removed]",
      "text/plain": [
       "<Figure size 432x288 with 1 Axes>"
      ]
     },
     "metadata": {
      "needs_background": "light"
     },
     "output_type": "display_data"
    },
    {
     "data": {
      "image/png": "[encoded data removed]",
      "text/plain": [
       "<Figure size 432x288 with 1 Axes>"
      ]
     },
     "metadata": {
      "needs_background": "light"
     },
     "output_type": "display_data"
    }
   ],
   "source": [
    "#history_dict = history.history\n",
    "#history_dict.keys()\n",
    "\n",
    "plt.subplot(2,1,1)\n",
    "# Plot training & validation accuracy values\n",
    "plt.plot(hist.history['accuracy'])\n",
    "plt.plot(hist.history['val_accuracy'])\n",
    "plt.title('Model accuracy')\n",
    "plt.ylabel('Accuracy')\n",
    "plt.xlabel('Epoch')\n",
    "plt.legend(['Train', 'Test'], loc='upper left')\n",
    "plt.show()\n",
    "\n",
    "plt.subplot(2,1,2)\n",
    "# Plot training & validation loss values\n",
    "plt.plot(hist.history['loss'])\n",
    "plt.plot(hist.history['val_loss'])\n",
    "plt.title('Model loss')\n",
    "plt.ylabel('Loss')\n",
    "plt.xlabel('Epoch')\n",
    "plt.legend(['Train', 'Test'], loc='upper left')\n",
    "plt.show()"
   ]
  },
  {
   "cell_type": "code",
   "execution_count": 18,
   "metadata": {},
   "outputs": [
    {
     "data": {
      "image/png": "[encoded data removed]",
      "text/plain": [
       "<Figure size 432x288 with 2 Axes>"
      ]
     },
     "metadata": {},
     "output_type": "display_data"
    }
   ],
   "source": [
    "from sklearn.metrics import confusion_matrix\n",
    "import seaborn as sns\n",
    "\n",
    "#Had to make the confusion matrix myself as I couldn0t use the previous one\n",
    "sns.set()\n",
    "cm=confusion_matrix(enc.inverse_transform(testY),enc.inverse_transform(model.predict(testX)))\n",
    "\n",
    "row_sums = cm.sum(axis=1)\n",
    "cm_norm = cm / row_sums[:, np.newaxis]\n",
    "\n",
    "sns.set(font_scale=1.2)\n",
    "ax = sns.heatmap(cm_norm, annot=True, vmin = 0, vmax = 1,\n",
    "                cmap = plt.cm.Blues, square = True,\n",
    "                xticklabels=[\"none\",\"soft\",\"tech\"],\n",
    "                yticklabels=[\"none\",\"soft\",\"tech\"])\n",
    "\n",
    "ax.set_title(\"Normalized confusion matrix\")\n",
    "ax.set_xlabel(\"Predicted label\")\n",
    "ax.set_ylabel(\"True label\")\n",
    "ax.set_yticklabels(ax.get_yticklabels(), rotation=0)\n",
    "\n",
    "plt.show()"
   ]
  },
  {
   "cell_type": "code",
   "execution_count": 19,
   "metadata": {},
   "outputs": [
    {
     "name": "stdout",
     "output_type": "stream",
     "text": [
      "Für mich bedeutet die Zusammenarbeit mit Ihnen eine berufliche Koalition aneignen, wo ich mir eine so bekannte Arbeitskultur Ihres Unternehmen, und mit meiner gesammelten Erfahrung arbeiten kann =======> none\n"
     ]
    }
   ],
   "source": [
    "#Just to check i'll use some personal Anschreiben texts \n",
    "#It's extra just for \"fun\"\n",
    "\n",
    "rawData = \"Für mich bedeutet die Zusammenarbeit mit Ihnen eine berufliche Koalition aneignen, wo ich mir eine so bekannte Arbeitskultur Ihres Unternehmen, und mit meiner gesammelten Erfahrung arbeiten kann\"\n",
    "newData = np.asarray(find_features(rawData))\n",
    "\n",
    "newData = newData.reshape(1,-1)\n",
    "\n",
    "predLabel = np.zeros(3)\n",
    "predIndex = np.argmax(model.predict([newData]))\n",
    "predLabel[predIndex] = 1\n",
    "\n",
    "predLabel = predLabel.reshape(1,-1)\n",
    "\n",
    "predLabelStr = enc.inverse_transform(predLabel)[0][0]\n",
    "\n",
    "print(rawData + \" =======> \" + predLabelStr)\n"
   ]
  },
  {
   "cell_type": "code",
   "execution_count": null,
   "metadata": {},
   "outputs": [],
   "source": []
  }
 ],
 "metadata": {
  "kernelspec": {
   "display_name": "'Python Interactive'",
   "language": "python",
   "name": "370a6b6a-a1ff-4227-80b9-7f7fdc85265b"
  },
  "language_info": {
   "codemirror_mode": {
    "name": "ipython",
    "version": 3
   },
   "file_extension": ".py",
   "mimetype": "text/x-python",
   "name": "python",
   "nbconvert_exporter": "python",
   "pygments_lexer": "ipython3",
   "version": "3.7.3"
  }
 },
 "nbformat": 4,
 "nbformat_minor": 2
}
