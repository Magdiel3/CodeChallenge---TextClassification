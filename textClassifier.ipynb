{
 "cells": [
  {
   "cell_type": "code",
   "execution_count": 8,
   "metadata": {},
   "outputs": [],
   "source": [
    "import pandas as pd\n",
    "import json\n",
    "import spacy\n",
    "from collections import Counter\n",
    "from sklearn.model_selection import train_test_split\n",
    "from sklearn.linear_model import LogisticRegression\n",
    "from sklearn.preprocessing import LabelEncoder"
   ]
  },
  {
   "cell_type": "code",
   "execution_count": 9,
   "metadata": {},
   "outputs": [
    {
     "data": {
      "text/html": [
       "<div>\n",
       "<style scoped>\n",
       "    .dataframe tbody tr th:only-of-type {\n",
       "        vertical-align: middle;\n",
       "    }\n",
       "\n",
       "    .dataframe tbody tr th {\n",
       "        vertical-align: top;\n",
       "    }\n",
       "\n",
       "    .dataframe thead th {\n",
       "        text-align: right;\n",
       "    }\n",
       "</style>\n",
       "<table border=\"1\" class=\"dataframe\">\n",
       "  <thead>\n",
       "    <tr style=\"text-align: right;\">\n",
       "      <th></th>\n",
       "      <th>label</th>\n",
       "      <th>text</th>\n",
       "    </tr>\n",
       "  </thead>\n",
       "  <tbody>\n",
       "    <tr>\n",
       "      <th>0</th>\n",
       "      <td>none</td>\n",
       "      <td>Standort Trovarit AG München, Deutschland</td>\n",
       "    </tr>\n",
       "    <tr>\n",
       "      <th>1</th>\n",
       "      <td>none</td>\n",
       "      <td>Wir freuen uns auf Ihre Bewerbung unter Angabe...</td>\n",
       "    </tr>\n",
       "    <tr>\n",
       "      <th>2</th>\n",
       "      <td>tech</td>\n",
       "      <td>Qualifikation zur Heimleitung gemäß Heimperson...</td>\n",
       "    </tr>\n",
       "    <tr>\n",
       "      <th>3</th>\n",
       "      <td>soft</td>\n",
       "      <td>Gute organisatorische und konzeptionelle Fähig...</td>\n",
       "    </tr>\n",
       "    <tr>\n",
       "      <th>4</th>\n",
       "      <td>soft</td>\n",
       "      <td>Teamfähigkeit, hohe Flexibilität und Einsatzbe...</td>\n",
       "    </tr>\n",
       "    <tr>\n",
       "      <th>5</th>\n",
       "      <td>soft</td>\n",
       "      <td>Überdurchschnittliche Einsatzbereitschaft</td>\n",
       "    </tr>\n",
       "    <tr>\n",
       "      <th>6</th>\n",
       "      <td>none</td>\n",
       "      <td>HomeIhre Karriere bei LeasePlanStellenangebote...</td>\n",
       "    </tr>\n",
       "    <tr>\n",
       "      <th>7</th>\n",
       "      <td>tech</td>\n",
       "      <td>Steuerkenntnisse sind sehr wünschenswert</td>\n",
       "    </tr>\n",
       "    <tr>\n",
       "      <th>8</th>\n",
       "      <td>soft</td>\n",
       "      <td>Kreativität und schnelle Auffassungsgabe</td>\n",
       "    </tr>\n",
       "    <tr>\n",
       "      <th>9</th>\n",
       "      <td>none</td>\n",
       "      <td>budget/forecast/prior year/prior month) and pr...</td>\n",
       "    </tr>\n",
       "  </tbody>\n",
       "</table>\n",
       "</div>"
      ],
      "text/plain": [
       "  label                                               text\n",
       "0  none          Standort Trovarit AG München, Deutschland\n",
       "1  none  Wir freuen uns auf Ihre Bewerbung unter Angabe...\n",
       "2  tech  Qualifikation zur Heimleitung gemäß Heimperson...\n",
       "3  soft  Gute organisatorische und konzeptionelle Fähig...\n",
       "4  soft  Teamfähigkeit, hohe Flexibilität und Einsatzbe...\n",
       "5  soft          Überdurchschnittliche Einsatzbereitschaft\n",
       "6  none  HomeIhre Karriere bei LeasePlanStellenangebote...\n",
       "7  tech           Steuerkenntnisse sind sehr wünschenswert\n",
       "8  soft           Kreativität und schnelle Auffassungsgabe\n",
       "9  none  budget/forecast/prior year/prior month) and pr..."
      ]
     },
     "execution_count": 9,
     "metadata": {},
     "output_type": "execute_result"
    }
   ],
   "source": [
    "#Spacy\n",
    "nlp = spacy.load('de_core_news_sm')\n",
    "\n",
    "#Read and format dataset\n",
    "with open('tech_soft_none.json', 'r',encoding = 'utf8') as f:\n",
    "    data = json.load(f)       \n",
    "        \n",
    "df = pd.DataFrame.from_dict(data[\"data\"])\n",
    "df.head(10)"
   ]
  },
  {
   "cell_type": "code",
   "execution_count": 3,
   "metadata": {},
   "outputs": [],
   "source": [
    "#Get most common words for bag of words\n",
    "alltext = \"\"\n",
    "for d in df[\"text\"]:\n",
    "    alltext += d\n",
    "doc = nlp(alltext)\n",
    "words = [token.text for token in doc if token.is_stop != True and token.is_punct != True \n",
    "         and token.like_num != True and token.pos_ != \"SYM\" and token.shape_[0:2].lower() == 'xx']\n",
    "\n",
    "word_freq = Counter(words)\n",
    "common_words = word_freq.most_common(5000)\n",
    "word_features = [t[0] for t in common_words]"
   ]
  },
  {
   "cell_type": "code",
   "execution_count": 4,
   "metadata": {},
   "outputs": [],
   "source": [
    "#define feature vectors\n",
    "def find_features(doc):\n",
    "    words = doc\n",
    "    features = {}\n",
    "    for w in word_features:\n",
    "        features[w] = (w in words)\n",
    "    return features"
   ]
  },
  {
   "cell_type": "code",
   "execution_count": 11,
   "metadata": {},
   "outputs": [],
   "source": [
    "featuresets = [(find_features(df[\"text\"][index]).values, df[\"label\"][index]) for index,_ in df.iterrows()]"
   ]
  },
  {
   "cell_type": "code",
   "execution_count": 12,
   "metadata": {},
   "outputs": [],
   "source": [
    "X = [x[0] for x in featuresets[:]]\n",
    "Y = [x[1] for x in featuresets[:]]\n",
    "\n",
    "le = LabelEncoder().fit(Y)\n",
    "Y = le.transform(Y)\n",
    "\n",
    "trainX, trainY, testX, testY = train_test_split(X, Y, test_size=0.20)\n"
   ]
  },
  {
   "cell_type": "code",
   "execution_count": 10,
   "metadata": {},
   "outputs": [
    {
     "name": "stdout",
     "output_type": "stream",
     "text": [
      "0\n"
     ]
    }
   ],
   "source": []
  }
 ],
 "metadata": {
  "kernelspec": {
   "display_name": "Python 3",
   "language": "python",
   "name": "python3"
  },
  "language_info": {
   "codemirror_mode": {
    "name": "ipython",
    "version": 3
   },
   "file_extension": ".py",
   "mimetype": "text/x-python",
   "name": "python",
   "nbconvert_exporter": "python",
   "pygments_lexer": "ipython3",
   "version": "3.7.3"
  }
 },
 "nbformat": 4,
 "nbformat_minor": 2
}
