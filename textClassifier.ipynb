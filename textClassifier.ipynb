{
 "cells": [
  {
   "cell_type": "code",
   "execution_count": 3,
   "metadata": {},
   "outputs": [],
   "source": [
    "import pandas as pd\n",
    "import json\n",
    "import spacy"
   ]
  },
  {
   "cell_type": "code",
   "execution_count": 4,
   "metadata": {},
   "outputs": [
    {
     "data": {
      "text/html": [
       "<div>\n",
       "<style scoped>\n",
       "    .dataframe tbody tr th:only-of-type {\n",
       "        vertical-align: middle;\n",
       "    }\n",
       "\n",
       "    .dataframe tbody tr th {\n",
       "        vertical-align: top;\n",
       "    }\n",
       "\n",
       "    .dataframe thead th {\n",
       "        text-align: right;\n",
       "    }\n",
       "</style>\n",
       "<table border=\"1\" class=\"dataframe\">\n",
       "  <thead>\n",
       "    <tr style=\"text-align: right;\">\n",
       "      <th></th>\n",
       "      <th>label</th>\n",
       "      <th>text</th>\n",
       "    </tr>\n",
       "  </thead>\n",
       "  <tbody>\n",
       "    <tr>\n",
       "      <th>0</th>\n",
       "      <td>none</td>\n",
       "      <td>Standort Trovarit AG München, Deutschland</td>\n",
       "    </tr>\n",
       "    <tr>\n",
       "      <th>1</th>\n",
       "      <td>none</td>\n",
       "      <td>Wir freuen uns auf Ihre Bewerbung unter Angabe...</td>\n",
       "    </tr>\n",
       "    <tr>\n",
       "      <th>2</th>\n",
       "      <td>tech</td>\n",
       "      <td>Qualifikation zur Heimleitung gemäß Heimperson...</td>\n",
       "    </tr>\n",
       "    <tr>\n",
       "      <th>3</th>\n",
       "      <td>soft</td>\n",
       "      <td>Gute organisatorische und konzeptionelle Fähig...</td>\n",
       "    </tr>\n",
       "    <tr>\n",
       "      <th>4</th>\n",
       "      <td>soft</td>\n",
       "      <td>Teamfähigkeit, hohe Flexibilität und Einsatzbe...</td>\n",
       "    </tr>\n",
       "    <tr>\n",
       "      <th>5</th>\n",
       "      <td>soft</td>\n",
       "      <td>Überdurchschnittliche Einsatzbereitschaft</td>\n",
       "    </tr>\n",
       "    <tr>\n",
       "      <th>6</th>\n",
       "      <td>none</td>\n",
       "      <td>HomeIhre Karriere bei LeasePlanStellenangebote...</td>\n",
       "    </tr>\n",
       "    <tr>\n",
       "      <th>7</th>\n",
       "      <td>tech</td>\n",
       "      <td>Steuerkenntnisse sind sehr wünschenswert</td>\n",
       "    </tr>\n",
       "    <tr>\n",
       "      <th>8</th>\n",
       "      <td>soft</td>\n",
       "      <td>Kreativität und schnelle Auffassungsgabe</td>\n",
       "    </tr>\n",
       "    <tr>\n",
       "      <th>9</th>\n",
       "      <td>none</td>\n",
       "      <td>budget/forecast/prior year/prior month) and pr...</td>\n",
       "    </tr>\n",
       "  </tbody>\n",
       "</table>\n",
       "</div>"
      ],
      "text/plain": [
       "  label                                               text\n",
       "0  none          Standort Trovarit AG München, Deutschland\n",
       "1  none  Wir freuen uns auf Ihre Bewerbung unter Angabe...\n",
       "2  tech  Qualifikation zur Heimleitung gemäß Heimperson...\n",
       "3  soft  Gute organisatorische und konzeptionelle Fähig...\n",
       "4  soft  Teamfähigkeit, hohe Flexibilität und Einsatzbe...\n",
       "5  soft          Überdurchschnittliche Einsatzbereitschaft\n",
       "6  none  HomeIhre Karriere bei LeasePlanStellenangebote...\n",
       "7  tech           Steuerkenntnisse sind sehr wünschenswert\n",
       "8  soft           Kreativität und schnelle Auffassungsgabe\n",
       "9  none  budget/forecast/prior year/prior month) and pr..."
      ]
     },
     "execution_count": 4,
     "metadata": {},
     "output_type": "execute_result"
    }
   ],
   "source": [
    "#Spacy\n",
    "nlp = spacy.load('de_core_news_sm')\n",
    "\n",
    "#Read and format dataset\n",
    "with open('tech_soft_none.json', 'r',encoding = 'utf8') as f:\n",
    "    data = json.load(f)       \n",
    "        \n",
    "df = pd.DataFrame.from_dict(data[\"data\"])\n",
    "df.head(10)"
   ]
  },
  {
   "cell_type": "code",
   "execution_count": 5,
   "metadata": {},
   "outputs": [],
   "source": [
    "from collections import Counter\n",
    "\n",
    "#Get most common words for bag of words\n",
    "alltext = \"\"\n",
    "for d in df[\"text\"]:\n",
    "    alltext += d\n",
    "doc = nlp(alltext)\n",
    "words = [token.text for token in doc if token.is_stop != True and token.is_punct != True \n",
    "         and token.like_num != True and token.pos_ != \"SYM\" and token.shape_[0:3].lower() == 'xxx']\n",
    "\n",
    "word_freq = Counter(words)\n",
    "common_words = word_freq.most_common(5000)\n",
    "word_features = [t[0] for t in common_words]"
   ]
  },
  {
   "cell_type": "code",
   "execution_count": 6,
   "metadata": {},
   "outputs": [],
   "source": [
    "#define feature vectors\n",
    "def find_features(doc):\n",
    "    words = doc\n",
    "    features = []\n",
    "    for w in word_features:\n",
    "        features.append(1 if (w in words) else 0)\n",
    "    return features"
   ]
  },
  {
   "cell_type": "code",
   "execution_count": 7,
   "metadata": {},
   "outputs": [],
   "source": [
    "import numpy as np\n",
    "\n",
    "#Extract feature vectors for each text entry with its corresponding label\n",
    "featuresets = np.array([(find_features(df[\"text\"][index]), df[\"label\"][index]) for index,_ in df.iterrows()])"
   ]
  },
  {
   "cell_type": "code",
   "execution_count": 8,
   "metadata": {},
   "outputs": [],
   "source": [
    "from sklearn.preprocessing import LabelEncoder\n",
    "from sklearn.model_selection import train_test_split\n",
    "\n",
    "#Prepare data for training\n",
    "X = np.array([x[0] for x in featuresets[:]])\n",
    "Y = [x[1] for x in featuresets[:]]\n",
    "\n",
    "#Label Encoding\n",
    "le = LabelEncoder().fit(Y)\n",
    "Y = np.array(le.transform(Y))\n",
    "    \n",
    "trainX, testX, trainY, testY = train_test_split(X, Y, test_size=0.25)\n",
    "\n"
   ]
  },
  {
   "cell_type": "code",
   "execution_count": 9,
   "metadata": {},
   "outputs": [
    {
     "name": "stdout",
     "output_type": "stream",
     "text": [
      "Accuarcy: 92.353%\n"
     ]
    }
   ],
   "source": [
    "#Prediction with Multinomial Naive Bayes \n",
    "from sklearn.naive_bayes import MultinomialNB\n",
    "from sklearn.pipeline import Pipeline\n",
    "from sklearn.feature_extraction.text import TfidfTransformer\n",
    "\n",
    "clf = MultinomialNB()\n",
    "clf.fit(trainX, trainY)\n",
    "accuaracy = clf.score(testX,testY)\n",
    "print(\"Accuarcy: {0:.3%}\".format(accuaracy))"
   ]
  },
  {
   "cell_type": "code",
   "execution_count": 12,
   "metadata": {
    "scrolled": true
   },
   "outputs": [
    {
     "name": "stdout",
     "output_type": "stream",
     "text": [
      "Confusion matrix, without normalization\n",
      "[[992  52  39]\n",
      " [ 15 835  25]\n",
      " [ 19  46 540]]\n",
      "Normalized confusion matrix\n",
      "[[0.91597415 0.04801477 0.03601108]\n",
      " [0.01714286 0.95428571 0.02857143]\n",
      " [0.03140496 0.07603306 0.89256198]]\n"
     ]
    },
    {
     "data": {
      "image/png": "[encoded data removed]",
      "text/plain": [
       "<Figure size 432x288 with 2 Axes>"
      ]
     },
     "metadata": {
      "needs_background": "light"
     },
     "output_type": "display_data"
    },
    {
     "data": {
      "image/png": "[encoded data removed]",
      "text/plain": [
       "<Figure size 432x288 with 2 Axes>"
      ]
     },
     "metadata": {
      "needs_background": "light"
     },
     "output_type": "display_data"
    }
   ],
   "source": [
    "import matplotlib.pyplot as plt\n",
    "from sklearn.metrics import plot_confusion_matrix\n",
    "\n",
    "titles_options = [(\"Confusion matrix, without normalization\", None),\n",
    "                  (\"Normalized confusion matrix\", 'true')]\n",
    "for title, normalize in titles_options:\n",
    "    disp = plot_confusion_matrix(clf, testX, testY,\n",
    "                                 display_labels=[\"none\",\"soft\",\"tech\"],\n",
    "                                 cmap=plt.cm.Blues,\n",
    "                                 normalize=normalize)\n",
    "    disp.ax_.set_title(title)\n",
    "\n",
    "    print(title)\n",
    "    print(disp.confusion_matrix)\n",
    "    \n",
    "plt.show()"
   ]
  },
  {
   "cell_type": "markdown",
   "metadata": {},
   "source": [
    "Despite different train/test spliting ratios and word features selected, couldn't improve more than 95%\n"
   ]
  },
  {
   "cell_type": "markdown",
   "metadata": {},
   "source": [
    "New model to train: Logistic Regression"
   ]
  },
  {
   "cell_type": "code",
   "execution_count": 13,
   "metadata": {},
   "outputs": [
    {
     "name": "stdout",
     "output_type": "stream",
     "text": [
      "Accuarcy: 93.328%\n"
     ]
    }
   ],
   "source": [
    "from sklearn.linear_model import LogisticRegression\n",
    "\n",
    "#LogisticRegression model and training\n",
    "clflr = LogisticRegression(solver = 'newton-cg', multi_class = 'multinomial')\n",
    "clflr.fit(trainX, trainY)\n",
    "accuaracy = clflr.score(testX,testY)\n",
    "\n",
    "print(\"Accuarcy: {0:.3%}\".format(accuaracy))"
   ]
  },
  {
   "cell_type": "markdown",
   "metadata": {},
   "source": [
    "Bow let's try with a Neural Network (1-hidden-layer)"
   ]
  },
  {
   "cell_type": "code",
   "execution_count": 14,
   "metadata": {},
   "outputs": [
    {
     "ename": "NameError",
     "evalue": "name 'OneHotEncoder' is not defined",
     "output_type": "error",
     "traceback": [
      "\u001b[1;31m---------------------------------------------------------------------------\u001b[0m",
      "\u001b[1;31mNameError\u001b[0m                                 Traceback (most recent call last)",
      "\u001b[1;32m<ipython-input-14-89b789cc91c4>\u001b[0m in \u001b[0;36m<module>\u001b[1;34m\u001b[0m\n\u001b[0;32m      4\u001b[0m \u001b[1;33m\u001b[0m\u001b[0m\n\u001b[0;32m      5\u001b[0m \u001b[1;31m#One-hot-encoding\u001b[0m\u001b[1;33m\u001b[0m\u001b[1;33m\u001b[0m\u001b[1;33m\u001b[0m\u001b[0m\n\u001b[1;32m----> 6\u001b[1;33m \u001b[0menc\u001b[0m \u001b[1;33m=\u001b[0m \u001b[0mOneHotEncoder\u001b[0m\u001b[1;33m(\u001b[0m\u001b[0msparse\u001b[0m \u001b[1;33m=\u001b[0m \u001b[1;32mFalse\u001b[0m\u001b[1;33m)\u001b[0m\u001b[1;33m\u001b[0m\u001b[1;33m\u001b[0m\u001b[0m\n\u001b[0m\u001b[0;32m      7\u001b[0m \u001b[0mY\u001b[0m \u001b[1;33m=\u001b[0m \u001b[0menc\u001b[0m\u001b[1;33m.\u001b[0m\u001b[0mfit_transform\u001b[0m\u001b[1;33m(\u001b[0m\u001b[0mnp\u001b[0m\u001b[1;33m.\u001b[0m\u001b[0marray\u001b[0m\u001b[1;33m(\u001b[0m\u001b[0mY\u001b[0m\u001b[1;33m)\u001b[0m\u001b[1;33m.\u001b[0m\u001b[0mreshape\u001b[0m\u001b[1;33m(\u001b[0m\u001b[1;33m-\u001b[0m\u001b[1;36m1\u001b[0m\u001b[1;33m,\u001b[0m\u001b[1;36m1\u001b[0m\u001b[1;33m)\u001b[0m\u001b[1;33m)\u001b[0m\u001b[1;33m\u001b[0m\u001b[1;33m\u001b[0m\u001b[0m\n\u001b[0;32m      8\u001b[0m \u001b[1;33m\u001b[0m\u001b[0m\n",
      "\u001b[1;31mNameError\u001b[0m: name 'OneHotEncoder' is not defined"
     ]
    }
   ],
   "source": [
    "#Prepare data for training\n",
    "X = np.array([x[0] for x in featuresets[:]])\n",
    "Y = [x[1] for x in featuresets[:]]\n",
    "\n",
    "#One-hot-encoding\n",
    "enc = OneHotEncoder(sparse = False)\n",
    "Y = enc.fit_transform(np.array(Y).reshape(-1,1))\n",
    "    \n",
    "trainX, testX, trainY, testY = train_test_split(X, Y, test_size=0.25)"
   ]
  },
  {
   "cell_type": "code",
   "execution_count": null,
   "metadata": {},
   "outputs": [],
   "source": [
    "from keras.models import Sequential\n",
    "from keras import layers\n",
    "\n",
    "input_dim = trainX.shape[1]  # Number of features\n",
    "\n",
    "model = Sequential()\n",
    "model.add(layers.Dense(120, input_dim=input_dim, activation='relu'))\n",
    "model.add(layers.Dense(3, activation='softmax'))\n",
    "\n",
    "model.compile(loss='categorical_crossentropy', \n",
    "              optimizer='adam', \n",
    "              metrics=['accuracy'])\n",
    "model.summary()"
   ]
  },
  {
   "cell_type": "code",
   "execution_count": null,
   "metadata": {},
   "outputs": [],
   "source": [
    "hist = model.fit(trainX, trainY,\n",
    "                    verbose = 1,\n",
    "                    epochs=15,\n",
    "                    validation_data = (testX,testY),\n",
    "                    batch_size=500)"
   ]
  },
  {
   "cell_type": "code",
   "execution_count": null,
   "metadata": {},
   "outputs": [],
   "source": [
    "#history_dict = history.history\n",
    "#history_dict.keys()\n",
    "\n",
    "plt.subplot(2,1,1)\n",
    "# Plot training & validation accuracy values\n",
    "plt.plot(hist.history['accuracy'])\n",
    "plt.plot(hist.history['val_accuracy'])\n",
    "plt.title('Model accuracy')\n",
    "plt.ylabel('Accuracy')\n",
    "plt.xlabel('Epoch')\n",
    "plt.legend(['Train', 'Test'], loc='upper left')\n",
    "plt.show()\n",
    "\n",
    "plt.subplot(2,1,2)\n",
    "# Plot training & validation loss values\n",
    "plt.plot(hist.history['loss'])\n",
    "plt.plot(hist.history['val_loss'])\n",
    "plt.title('Model loss')\n",
    "plt.ylabel('Loss')\n",
    "plt.xlabel('Epoch')\n",
    "plt.legend(['Train', 'Test'], loc='upper left')\n",
    "plt.show()"
   ]
  },
  {
   "cell_type": "code",
   "execution_count": null,
   "metadata": {},
   "outputs": [],
   "source": [
    "#Just to check i'll use some personal Anschreiben texts \n",
    "#It's extra just for \"fun\"\n",
    "\n",
    "rawData = \"Für mich bedeutet die Zusammenarbeit mit Ihnen eine berufliche Koalition aneignen, wo ich mir eine so bekannte Arbeitskultur Ihres Unternehmen, und mit meiner gesammelten Erfahrung arbeiten kann\"\n",
    "newData = np.asarray(find_features(rawData))\n",
    "\n",
    "newData = newData.reshape(1,-1)\n",
    "\n",
    "predLabel = np.zeros(3)\n",
    "predIndex = np.argmax(model.predict([newData]))\n",
    "predLabel[predIndex] = 1\n",
    "\n",
    "predLabel = predLabel.reshape(1,-1)\n",
    "\n",
    "predLabelStr = enc.inverse_transform(predLabel)[0][0]\n",
    "\n",
    "print(rawData + \" =======> \" + predLabelStr)\n"
   ]
  }
 ],
 "metadata": {
  "kernelspec": {
   "display_name": "'Python Interactive'",
   "language": "python",
   "name": "370a6b6a-a1ff-4227-80b9-7f7fdc85265b"
  },
  "language_info": {
   "codemirror_mode": {
    "name": "ipython",
    "version": 3
   },
   "file_extension": ".py",
   "mimetype": "text/x-python",
   "name": "python",
   "nbconvert_exporter": "python",
   "pygments_lexer": "ipython3",
   "version": "3.7.3"
  }
 },
 "nbformat": 4,
 "nbformat_minor": 2
}
